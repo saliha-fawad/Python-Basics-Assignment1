{
 "cells": [
  {
   "cell_type": "markdown",
   "metadata": {},
   "source": [
    "ASSIGNMENT no.01\n"
   ]
  },
  {
   "cell_type": "markdown",
   "metadata": {},
   "source": [
    "Task 1: Variables and Data Types\n",
    "a) Create three variables: one for storing your age (integer), one for your name (string), and one\n",
    "to check if you are a student (Boolean). Print the variables.\n",
    "b) Perform the following operations and print the results: - Add 25 to your age variable. -\n",
    "Concatenate your name with the string \"Smith.\" - Negate the Boolean variable (if True, make it\n",
    "False, and vice versa)."
   ]
  },
  {
   "cell_type": "code",
   "execution_count": 5,
   "metadata": {},
   "outputs": [
    {
     "name": "stdout",
     "output_type": "stream",
     "text": [
      "Age: 21\n",
      "Name: saliha\n",
      "Is Student: True\n"
     ]
    }
   ],
   "source": [
    "\"\"\" a) Create three variables: \n",
    "one for storing your age (integer), \n",
    "one for your name (string), \n",
    "and one\n",
    "to check if you are a student (Boolean). Print the variables.\"\"\"\n",
    "age = 21\n",
    "name = \"saliha\"\n",
    "is_student = True\n",
    "\n",
    "print(\"Age:\", age)\n",
    "print(\"Name:\", name)\n",
    "print(\"Is Student:\", is_student)\n",
    "\n"
   ]
  },
  {
   "cell_type": "code",
   "execution_count": 7,
   "metadata": {},
   "outputs": [
    {
     "name": "stdout",
     "output_type": "stream",
     "text": [
      "71\n"
     ]
    }
   ],
   "source": [
    "\"\"\" b) Perform the following operations and print the results: \n",
    "- Add 25 to your age variable.\"\"\"\n",
    "age = age + 25\n",
    "print(age)\n",
    "#i clicked run 2 times thatswhy it shows 71."
   ]
  },
  {
   "cell_type": "code",
   "execution_count": 8,
   "metadata": {},
   "outputs": [
    {
     "name": "stdout",
     "output_type": "stream",
     "text": [
      "saliha fawad\n",
      "False\n"
     ]
    }
   ],
   "source": [
    "\"\"\"Concatenate your name with the string \"fawad.\" - Negate the Boolean variable (if True, make it\n",
    "False, and vice versa).\"\"\"\n",
    "last_name = \"fawad\"\n",
    "full_name = name + \" \" + last_name\n",
    "bool = True\n",
    "negate_bool = False \n",
    "\n",
    "print(full_name)\n",
    "print(negate_bool)\n"
   ]
  },
  {
   "cell_type": "markdown",
   "metadata": {},
   "source": [
    "Task 2: String Manipulation\n",
    "a) Create a string variable called \"sentence\" containing the sentence \"Python is a powerful\n",
    "programming language.\" Print the sentence.\n",
    "b) Count the number of characters in the \"sentence\" and print the result.\n",
    "c) Check if the word \"Python\" is present in the \"sentence\" and print the result (True/False).\n",
    "d) Replace the word \"powerful\" with \"versatile\" in the \"sentence\" and print the updated\n",
    "sentence.\n",
    "e) Split the \"sentence\" into a list of words and print the list."
   ]
  },
  {
   "cell_type": "code",
   "execution_count": 9,
   "metadata": {},
   "outputs": [
    {
     "name": "stdout",
     "output_type": "stream",
     "text": [
      "Python is a powerful programming langauge\n"
     ]
    }
   ],
   "source": [
    "\"\"\"a) Create a string variable called \"sentence\" containing the sentence \"Python is a powerful\n",
    "programming language.\" Print the sentence.\"\"\"\n",
    "sentence= \"Python is a powerful programming langauge\"\n",
    "print(sentence)"
   ]
  },
  {
   "cell_type": "code",
   "execution_count": 10,
   "metadata": {},
   "outputs": [
    {
     "name": "stdout",
     "output_type": "stream",
     "text": [
      "total characters in the sentence= 41\n"
     ]
    }
   ],
   "source": [
    "\"\"\"b) Count the number of characters in the \"sentence\" \n",
    "and print the result.\"\"\"\n",
    "character_sentence= len(sentence)\n",
    "print(\"total characters in the sentence=\",character_sentence)"
   ]
  },
  {
   "cell_type": "code",
   "execution_count": 11,
   "metadata": {},
   "outputs": [
    {
     "name": "stdout",
     "output_type": "stream",
     "text": [
      "True\n"
     ]
    }
   ],
   "source": [
    "\"\"\"c) Check if the word \"Python\" is present in the \"sentence\" \n",
    "and print the result (True/False).\"\"\"\n",
    "check= \"Python\"\n",
    "if(check in sentence):\n",
    "    print(\"True\")\n",
    "else:\n",
    "    print(False)"
   ]
  },
  {
   "cell_type": "code",
   "execution_count": 12,
   "metadata": {},
   "outputs": [
    {
     "name": "stdout",
     "output_type": "stream",
     "text": [
      "Python is a versatile programming langauge\n"
     ]
    }
   ],
   "source": [
    "\"\"\"d) Replace the word \"powerful\" with \"versatile\" in the \"sentence\" and print the updated\n",
    "sentence.\"\"\"\n",
    "updated_sentence= sentence.replace(\"powerful\",\"versatile\")\n",
    "print(updated_sentence)\n"
   ]
  },
  {
   "cell_type": "code",
   "execution_count": 13,
   "metadata": {},
   "outputs": [
    {
     "name": "stdout",
     "output_type": "stream",
     "text": [
      "['Python', 'is', 'a', 'powerful', 'programming', 'langauge']\n"
     ]
    }
   ],
   "source": [
    "\"\"\"e) Split the \"sentence\" into a list of words and print the list.\"\"\"\n",
    "list= sentence.split()\n",
    "print(list)"
   ]
  },
  {
   "cell_type": "markdown",
   "metadata": {},
   "source": [
    "Task 3: Expressions and Operators\n",
    "a) A rectangle has a width of 5.5 units and a height of 3.25 units. Store width and height in\n",
    "variables. Create a new variable called area and write an expression to calculate the area. Print\n",
    "the area in the output.\n",
    "b) Create a temperature variable in Celsius. Convert it to Fahrenheit using the formula: F = (C *\n",
    "9/5) + 32. Store this temperature in a variable called Fahrenheit and print this variable. a) Create\n",
    "a variable called radius and give it a value of 5. Calculate the area of a circle with this radius\n",
    "and store it in a variable called area. Print area at the end of your code. (Use the formula: area =\n",
    "π * radius^2, where π (pi) is approximately 3.14159)."
   ]
  },
  {
   "cell_type": "code",
   "execution_count": 14,
   "metadata": {},
   "outputs": [
    {
     "name": "stdout",
     "output_type": "stream",
     "text": [
      "The rectangle total area= 17.875\n"
     ]
    }
   ],
   "source": [
    "\"\"\"a) A rectangle has a width of 5.5 units and a height of 3.25 units. Store width and height in\n",
    "variables. Create a new variable called area and write an expression to calculate the area. Print\n",
    "the area in the output.\"\"\"\n",
    "width = 5.5\n",
    "height = 3.25\n",
    "\n",
    "area = width * height\n",
    "print(\"The rectangle total area=\", area)"
   ]
  },
  {
   "cell_type": "code",
   "execution_count": 15,
   "metadata": {},
   "outputs": [
    {
     "name": "stdout",
     "output_type": "stream",
     "text": [
      "The temperature in Fahrenheit is= 91.4\n"
     ]
    }
   ],
   "source": [
    "\"\"\"b) Create a temperature variable in Celsius. Convert it to Fahrenheit using the formula: F = (C *\n",
    "9/5) + 32. Store this temperature in a variable called Fahrenheit and print this variable.\"\"\"\n",
    "\n",
    "temperature_celsius = 33\n",
    "\n",
    "Fahrenheit = (temperature_celsius * 9/5) + 32\n",
    "print(\"The temperature in Fahrenheit is=\", Fahrenheit)\n",
    "\n"
   ]
  },
  {
   "cell_type": "code",
   "execution_count": 16,
   "metadata": {},
   "outputs": [
    {
     "name": "stdout",
     "output_type": "stream",
     "text": [
      "5\n"
     ]
    }
   ],
   "source": [
    "\"\"\"a) Create a variable called radius and give it a value of 5.\"\"\"\n",
    "radius= 5\n",
    "print(radius)"
   ]
  },
  {
   "cell_type": "code",
   "execution_count": 21,
   "metadata": {},
   "outputs": [
    {
     "name": "stdout",
     "output_type": "stream",
     "text": [
      "78.53975\n"
     ]
    }
   ],
   "source": [
    "\"\"\"Calculate the area of a circle with this radius\n",
    "and store it in a variable called area. \n",
    "Print area at the end of your code. (Use the formula: area =\n",
    "π * radius^2, where π (pi) is approximately 3.14159).\"\"\"\n",
    "area= 3.14159*radius**2\n",
    "print(area)\n"
   ]
  },
  {
   "cell_type": "markdown",
   "metadata": {},
   "source": [
    "Task 4: Introduction to Data Structures\n",
    "List\n",
    "a) Create a list called \"fruits\" containing the following fruits: \"apple,\" \"banana,\" \"orange,\"\n",
    "\"grape,\" and \"kiwi.\" Print the list.\n",
    "b) Create another list called \"vegetables\" containing the following vegetables: \"carrot,\" \"lettuce,\"\n",
    "\"tomato,\" \"broccoli,\" and \"spinach.\" Print the list.\n",
    "\n",
    "c) Concatenate the \"fruits\" list with the \"vegetables\" list and store the result in a new list called\n",
    "\"groceries\". Print the \"groceries\" list.\n",
    "d) Sort the \"groceries\" list in alphabetical order and print it.\n",
    "e) Remove the \"banana\" from the \"fruits\" list and print the updated \"fruits\" list."
   ]
  },
  {
   "cell_type": "code",
   "execution_count": 22,
   "metadata": {},
   "outputs": [
    {
     "name": "stdout",
     "output_type": "stream",
     "text": [
      "['grapes', 'orange', 'Kiwi', 'Mango', 'apple']\n"
     ]
    }
   ],
   "source": [
    "\"\"\"a) Create a list called \"fruits\" containing the following fruits: \"apple,\" \"banana,\" \"orange,\"\n",
    "\"grape,\" and \"kiwi.\" Print the list.\"\"\"\n",
    "favorite_fruits=[\"grapes\",\"orange\",\"Kiwi\",\"Mango\",\"apple\"]\n",
    "print(favorite_fruits)\n"
   ]
  },
  {
   "cell_type": "code",
   "execution_count": 23,
   "metadata": {},
   "outputs": [
    {
     "name": "stdout",
     "output_type": "stream",
     "text": [
      "['tomato', 'broccoli', 'carrot', 'spinach', 'lettuce']\n"
     ]
    }
   ],
   "source": [
    "\"\"\"b) Create another list called \"vegetables\" containing the following vegetables: \"carrot,\" \"lettuce,\"\n",
    "\"tomato,\" \"broccoli,\" and \"spinach.\" Print the list.\"\"\"\n",
    "vegies=[\"tomato\",\"broccoli\",\"carrot\",\"spinach\",\"lettuce\"]\n",
    "print(vegies)\n"
   ]
  },
  {
   "cell_type": "code",
   "execution_count": 24,
   "metadata": {},
   "outputs": [
    {
     "name": "stdout",
     "output_type": "stream",
     "text": [
      "['grapes', 'orange', 'Kiwi', 'Mango', 'apple', 'tomato', 'broccoli', 'carrot', 'spinach', 'lettuce']\n"
     ]
    }
   ],
   "source": [
    "\"\"\"c) Concatenate the \"fruits\" list with the \"vegetables\" list and store the result in a new list called\n",
    "\"groceries\". Print the \"groceries\" list.\"\"\"\n",
    "groceries=favorite_fruits + vegies\n",
    "print(groceries)"
   ]
  },
  {
   "cell_type": "code",
   "execution_count": 26,
   "metadata": {},
   "outputs": [
    {
     "name": "stdout",
     "output_type": "stream",
     "text": [
      "['Kiwi', 'Mango', 'apple', 'broccoli', 'carrot', 'grapes', 'lettuce', 'orange', 'spinach', 'tomato']\n"
     ]
    }
   ],
   "source": [
    "\"\"\"d) Sort the \"groceries\" list in alphabetical order and print it.\"\"\"\n",
    "grocery= groceries.sort()\n",
    "print(groceries)"
   ]
  },
  {
   "cell_type": "code",
   "execution_count": 27,
   "metadata": {},
   "outputs": [
    {
     "name": "stdout",
     "output_type": "stream",
     "text": [
      "['apple', 'broccoli', 'carrot', 'grapes', 'Kiwi', 'lettuce', 'Mango', 'orange', 'spinach', 'tomato']\n"
     ]
    }
   ],
   "source": [
    "groceries.sort(key=str.lower)\n",
    "print(groceries)"
   ]
  },
  {
   "cell_type": "code",
   "execution_count": 30,
   "metadata": {},
   "outputs": [
    {
     "name": "stdout",
     "output_type": "stream",
     "text": [
      "['grapes', 'orange', 'Kiwi', 'Mango']\n"
     ]
    }
   ],
   "source": [
    "\"\"\"e) Remove the \"banana\" from the \"fruits\" list and print the updated \"fruits\" list.\"\"\"\n",
    "favorite_fruits.remove(\"apple\")\n",
    "print(favorite_fruits)\n",
    "#i remove apple insteadof banana as i add another fruit in place of banana inn the list."
   ]
  },
  {
   "cell_type": "markdown",
   "metadata": {},
   "source": [
    "Task5: Tuple\n",
    "a) Create a tuple named \"colors\" with the names of three colors of your choice. Print the tuple.\n",
    "b) Access the second element of the \"colors\" tuple and print it.\n",
    "c) Concatenate the \"months\" tuple with the \"colors\" tuple and store the result in a new tuple\n",
    "called \"combined_tuple\". Print the \"combined_tuple\"."
   ]
  },
  {
   "cell_type": "code",
   "execution_count": 31,
   "metadata": {},
   "outputs": [
    {
     "name": "stdout",
     "output_type": "stream",
     "text": [
      "('red', 'blue', 'grey', 'black', 'white')\n"
     ]
    }
   ],
   "source": [
    "\"\"\"a) Create a tuple named \"colors\" with the names of three colors of your choice. Print the tuple.\"\"\"\n",
    "colors= (\"red\",\"blue\",\"grey\",\"black\",\"white\")\n",
    "print(colors)"
   ]
  },
  {
   "cell_type": "code",
   "execution_count": 32,
   "metadata": {},
   "outputs": [
    {
     "name": "stdout",
     "output_type": "stream",
     "text": [
      "blue\n"
     ]
    }
   ],
   "source": [
    "print(colors[1])"
   ]
  },
  {
   "cell_type": "code",
   "execution_count": 33,
   "metadata": {},
   "outputs": [
    {
     "name": "stdout",
     "output_type": "stream",
     "text": [
      "black\n"
     ]
    }
   ],
   "source": [
    "print(colors[3])"
   ]
  },
  {
   "cell_type": "code",
   "execution_count": 34,
   "metadata": {},
   "outputs": [
    {
     "name": "stdout",
     "output_type": "stream",
     "text": [
      "('January', 'Feb', 'March', 'April', 'May')\n"
     ]
    }
   ],
   "source": [
    "\"\"\"c) Concatenate the \"months\" tuple with the \"colors\" tuple and store the result in a new tuple\n",
    "called \"combined_tuple\". Print the \"combined_tuple\".\"\"\"\n",
    "months= (\"January\",\"Feb\",\"March\",\"April\",\"May\")\n",
    "print(months)"
   ]
  },
  {
   "cell_type": "code",
   "execution_count": 35,
   "metadata": {},
   "outputs": [
    {
     "name": "stdout",
     "output_type": "stream",
     "text": [
      "('red', 'blue', 'grey', 'black', 'white', 'January', 'Feb', 'March', 'April', 'May')\n"
     ]
    }
   ],
   "source": [
    "Combined_tuple= (colors + months)\n",
    "print(Combined_tuple)"
   ]
  },
  {
   "cell_type": "markdown",
   "metadata": {},
   "source": [
    "All Done!"
   ]
  }
 ],
 "metadata": {
  "kernelspec": {
   "display_name": "Python 3",
   "language": "python",
   "name": "python3"
  },
  "language_info": {
   "codemirror_mode": {
    "name": "ipython",
    "version": 3
   },
   "file_extension": ".py",
   "mimetype": "text/x-python",
   "name": "python",
   "nbconvert_exporter": "python",
   "pygments_lexer": "ipython3",
   "version": "3.11.9"
  }
 },
 "nbformat": 4,
 "nbformat_minor": 2
}
